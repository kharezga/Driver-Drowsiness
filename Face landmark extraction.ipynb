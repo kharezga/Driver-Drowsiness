{
 "cells": [
  {
   "cell_type": "code",
   "execution_count": 1,
   "metadata": {},
   "outputs": [
    {
     "name": "stderr",
     "output_type": "stream",
     "text": [
      "objc[33768]: Class CaptureDelegate is implemented in both /Users/M374155/miniforge3/lib/python3.10/site-packages/cv2/cv2.abi3.so (0x1647765a0) and /Users/M374155/miniforge3/lib/python3.10/site-packages/mediapipe/.dylibs/libopencv_videoio.3.4.16.dylib (0x131fd0860). One of the two will be used. Which one is undefined.\n",
      "objc[33768]: Class CVWindow is implemented in both /Users/M374155/miniforge3/lib/python3.10/site-packages/cv2/cv2.abi3.so (0x1647765f0) and /Users/M374155/miniforge3/lib/python3.10/site-packages/mediapipe/.dylibs/libopencv_highgui.3.4.16.dylib (0x111df0a68). One of the two will be used. Which one is undefined.\n",
      "objc[33768]: Class CVView is implemented in both /Users/M374155/miniforge3/lib/python3.10/site-packages/cv2/cv2.abi3.so (0x164776618) and /Users/M374155/miniforge3/lib/python3.10/site-packages/mediapipe/.dylibs/libopencv_highgui.3.4.16.dylib (0x111df0a90). One of the two will be used. Which one is undefined.\n",
      "objc[33768]: Class CVSlider is implemented in both /Users/M374155/miniforge3/lib/python3.10/site-packages/cv2/cv2.abi3.so (0x164776640) and /Users/M374155/miniforge3/lib/python3.10/site-packages/mediapipe/.dylibs/libopencv_highgui.3.4.16.dylib (0x111df0ab8). One of the two will be used. Which one is undefined.\n"
     ]
    }
   ],
   "source": [
    "import cv2 as cv\n",
    "import os\n",
    "from os.path import exists\n",
    "import numpy as np\n",
    "import mediapipe as mp"
   ]
  },
  {
   "attachments": {},
   "cell_type": "markdown",
   "metadata": {},
   "source": [
    "## Copy files from orginal dataset"
   ]
  },
  {
   "cell_type": "code",
   "execution_count": 8,
   "metadata": {},
   "outputs": [],
   "source": [
    "import os\n",
    "import shutil\n",
    "\n",
    "# Set the path of the parent directory\n",
    "parent_directory = \"/Users/M374155/Desktop/Preprared New Dataset\"\n",
    "\n",
    "# Create a new directory to copy the files to\n",
    "new_directory = \"/Users/M374155/Desktop/Test/NonSleepy\"\n",
    "\n",
    "# Create the new directory if it doesn't already exist\n",
    "if not os.path.exists(new_directory):\n",
    "    os.makedirs(new_directory)\n",
    "\n",
    "# Counter for the new directory names\n",
    "counter = 1\n",
    "for partent_dir_numer in range (1, 20):\n",
    "    directory = os.path.join(parent_directory, str(partent_dir_numer))\n",
    "    # Loop through each subdirectory of the parent directory\n",
    "    for root, dirs, files in os.walk(directory):\n",
    "        for file in files:\n",
    "            # Check if the file is called \"sleepyCombination.avi\"\n",
    "            if file == \"nonsleepyCombination.avi\":\n",
    "                # Create the new subdirectory for this file\n",
    "                new_subdirectory = os.path.join(new_directory, str(counter))\n",
    "                os.makedirs(new_subdirectory, exist_ok=True)\n",
    "                # Copy the file to the new subdirectory\n",
    "                shutil.copy2(os.path.join(root, file), os.path.join(new_subdirectory, file))\n",
    "                # Increment the counter\n",
    "                counter += 1\n"
   ]
  },
  {
   "attachments": {},
   "cell_type": "markdown",
   "metadata": {},
   "source": [
    "## Create folders for extracted values"
   ]
  },
  {
   "cell_type": "code",
   "execution_count": 3,
   "metadata": {},
   "outputs": [],
   "source": [
    "DATA_PATH = os.path.join('Extracted_Values_Bigger_Confidence/')\n",
    "\n",
    "for state in [\"Sleepy\", \"NonSleepy\"]:\n",
    "    for number in range(1,90):\n",
    "            try:\n",
    "                os.makedirs(os.path.join(DATA_PATH, state , str(number)))\n",
    "            except:\n",
    "                pass\n"
   ]
  },
  {
   "attachments": {},
   "cell_type": "markdown",
   "metadata": {},
   "source": [
    "### In order to solve openCV problem use version 4.5.5.62"
   ]
  },
  {
   "attachments": {},
   "cell_type": "markdown",
   "metadata": {},
   "source": [
    "## Extract face features from video"
   ]
  },
  {
   "cell_type": "code",
   "execution_count": 3,
   "metadata": {},
   "outputs": [],
   "source": [
    "def extractKeypoints(result):\n",
    "    if result.multi_face_landmarks:\n",
    "        for face_detected in result.multi_face_landmarks:\n",
    "            face = np.array([[res.x, res.y, res.z] for res in face_detected.landmark]).flatten()\n",
    "    else:\n",
    "        face = np.zeros(1434)\n",
    "\n",
    "    return face"
   ]
  },
  {
   "cell_type": "code",
   "execution_count": 4,
   "metadata": {},
   "outputs": [],
   "source": [
    "def drawLandmarks(mp_face_mesh, results, frame): \n",
    "    mp_drawing = mp.solutions.drawing_utils  \n",
    "    mp_drawing_styles = mp.solutions.drawing_styles\n",
    "    if results.multi_face_landmarks:\n",
    "        for face_landmarks in results.multi_face_landmarks:\n",
    "            mp_drawing.draw_landmarks(image=frame, landmark_list=face_landmarks, connections=mp_face_mesh.FACEMESH_TESSELATION, landmark_drawing_spec=None, connection_drawing_spec=mp_drawing_styles.get_default_face_mesh_tesselation_style())\n",
    "            mp_drawing.draw_landmarks(image=frame, landmark_list=face_landmarks, connections=mp_face_mesh.FACEMESH_CONTOURS, landmark_drawing_spec=None, connection_drawing_spec=mp_drawing_styles.get_default_face_mesh_contours_style())\n",
    "            mp_drawing.draw_landmarks(image=frame, landmark_list=face_landmarks, connections=mp_face_mesh.FACEMESH_IRISES, landmark_drawing_spec=None, connection_drawing_spec=mp_drawing_styles.get_default_face_mesh_iris_connections_style())"
   ]
  },
  {
   "cell_type": "code",
   "execution_count": 5,
   "metadata": {},
   "outputs": [],
   "source": [
    "def revertColors(frame, mesh): \n",
    "    image = cv.cvtColor(frame, cv.COLOR_BGR2RGB)  \n",
    "    image.flags.writeable = False \n",
    "    results = mesh.process(image)\n",
    "    image.flags.writeable = True\n",
    "    image = cv.cvtColor(image, cv.COLOR_RGB2BGR)  \n",
    "    \n",
    "    return image, results "
   ]
  },
  {
   "attachments": {},
   "cell_type": "markdown",
   "metadata": {},
   "source": []
  },
  {
   "cell_type": "code",
   "execution_count": 7,
   "metadata": {},
   "outputs": [
    {
     "name": "stdout",
     "output_type": "stream",
     "text": [
      "Processing video number:  1  with numer of frames:  1502  for state  Sleepy\n"
     ]
    },
    {
     "name": "stderr",
     "output_type": "stream",
     "text": [
      "INFO: Created TensorFlow Lite XNNPACK delegate for CPU.\n"
     ]
    },
    {
     "name": "stdout",
     "output_type": "stream",
     "text": [
      "Processing video number:  2  with numer of frames:  2805  for state  Sleepy\n"
     ]
    },
    {
     "name": "stderr",
     "output_type": "stream",
     "text": [
      "[NULL @ 0x162059d10] time_scale/num_units_in_tick invalid or unsupported (0/0)\n",
      "[NULL @ 0x162059d10] Overread VUI by 8 bits\n",
      "[h264 @ 0x2933c3cd0] Invalid level prefix\n",
      "[h264 @ 0x2933c3cd0] error while decoding MB 22 4\n",
      "[h264 @ 0x2933c3cd0] Invalid level prefix\n",
      "[h264 @ 0x2933c3cd0] error while decoding MB 6 26\n",
      "[h264 @ 0x29333d500] illegal short term buffer state detected\n"
     ]
    },
    {
     "name": "stdout",
     "output_type": "stream",
     "text": [
      "Processing video number:  3  with numer of frames:  2748  for state  Sleepy\n",
      "Processing video number:  4  with numer of frames:  1495  for state  Sleepy\n",
      "Processing video number:  5  with numer of frames:  2711  for state  Sleepy\n",
      "Processing video number:  6  with numer of frames:  1351  for state  Sleepy\n",
      "Processing video number:  7  with numer of frames:  2907  for state  Sleepy\n",
      "Processing video number:  8  with numer of frames:  2879  for state  Sleepy\n",
      "Processing video number:  9  with numer of frames:  1380  for state  Sleepy\n",
      "Processing video number:  10  with numer of frames:  2657  for state  Sleepy\n",
      "Processing video number:  11  with numer of frames:  3015  for state  Sleepy\n",
      "Processing video number:  12  with numer of frames:  2922  for state  Sleepy\n",
      "Processing video number:  13  with numer of frames:  1463  for state  Sleepy\n",
      "Processing video number:  14  with numer of frames:  3192  for state  Sleepy\n",
      "Processing video number:  15  with numer of frames:  1424  for state  Sleepy\n",
      "Processing video number:  16  with numer of frames:  2935  for state  Sleepy\n",
      "Processing video number:  17  with numer of frames:  2849  for state  Sleepy\n",
      "Processing video number:  18  with numer of frames:  1465  for state  Sleepy\n",
      "Processing video number:  19  with numer of frames:  2890  for state  Sleepy\n",
      "Processing video number:  20  with numer of frames:  1248  for state  Sleepy\n",
      "Processing video number:  21  with numer of frames:  2793  for state  Sleepy\n"
     ]
    },
    {
     "name": "stderr",
     "output_type": "stream",
     "text": [
      "[NULL @ 0x2965e6190] time_scale/num_units_in_tick invalid or unsupported (0/0)\n",
      "[NULL @ 0x2965e6190] Overread VUI by 8 bits\n",
      "[h264 @ 0x2933e95b0] corrupted macroblock 0 5 (total_coeff=-1)\n",
      "[h264 @ 0x2933e95b0] error while decoding MB 0 5\n",
      "[h264 @ 0x2933e95b0] out of range intra chroma pred mode\n",
      "[h264 @ 0x2933e95b0] error while decoding MB 30 25\n",
      "[h264 @ 0x2933f29c0] illegal short term buffer state detected\n"
     ]
    },
    {
     "name": "stdout",
     "output_type": "stream",
     "text": [
      "Processing video number:  22  with numer of frames:  2781  for state  Sleepy\n",
      "Processing video number:  23  with numer of frames:  1430  for state  Sleepy\n"
     ]
    },
    {
     "name": "stderr",
     "output_type": "stream",
     "text": [
      "[NULL @ 0x29a2e14b0] time_scale/num_units_in_tick invalid or unsupported (0/0)\n",
      "[NULL @ 0x29a2e14b0] Overread VUI by 8 bits\n",
      "[h264 @ 0x2a0a88a90] Invalid level prefix\n",
      "[h264 @ 0x2a0a88a90] error while decoding MB 25 4\n",
      "[h264 @ 0x2a0a88a90] Invalid level prefix\n",
      "[h264 @ 0x2a0a88a90] error while decoding MB 12 26\n",
      "[h264 @ 0x2a0a31920] illegal short term buffer state detected\n"
     ]
    },
    {
     "name": "stdout",
     "output_type": "stream",
     "text": [
      "Processing video number:  24  with numer of frames:  2872  for state  Sleepy\n",
      "Processing video number:  25  with numer of frames:  1343  for state  Sleepy\n",
      "Processing video number:  26  with numer of frames:  2915  for state  Sleepy\n",
      "Processing video number:  27  with numer of frames:  2877  for state  Sleepy\n",
      "Processing video number:  28  with numer of frames:  1363  for state  Sleepy\n",
      "Processing video number:  29  with numer of frames:  2884  for state  Sleepy\n",
      "Processing video number:  30  with numer of frames:  1416  for state  Sleepy\n",
      "Processing video number:  31  with numer of frames:  2970  for state  Sleepy\n",
      "Processing video number:  32  with numer of frames:  3005  for state  Sleepy\n",
      "Processing video number:  33  with numer of frames:  1429  for state  Sleepy\n",
      "Processing video number:  34  with numer of frames:  3029  for state  Sleepy\n",
      "Processing video number:  35  with numer of frames:  1428  for state  Sleepy\n",
      "Processing video number:  36  with numer of frames:  2898  for state  Sleepy\n",
      "Processing video number:  37  with numer of frames:  2886  for state  Sleepy\n",
      "Processing video number:  38  with numer of frames:  1431  for state  Sleepy\n",
      "Processing video number:  39  with numer of frames:  3046  for state  Sleepy\n",
      "Processing video number:  40  with numer of frames:  1421  for state  Sleepy\n",
      "Processing video number:  41  with numer of frames:  2912  for state  Sleepy\n",
      "Processing video number:  42  with numer of frames:  2981  for state  Sleepy\n",
      "Processing video number:  43  with numer of frames:  1435  for state  Sleepy\n",
      "Processing video number:  44  with numer of frames:  2887  for state  Sleepy\n",
      "Processing video number:  45  with numer of frames:  1482  for state  Sleepy\n",
      "Processing video number:  46  with numer of frames:  2841  for state  Sleepy\n",
      "Processing video number:  47  with numer of frames:  2848  for state  Sleepy\n",
      "Processing video number:  48  with numer of frames:  1435  for state  Sleepy\n"
     ]
    },
    {
     "name": "stderr",
     "output_type": "stream",
     "text": [
      "[NULL @ 0x29a2dc080] time_scale/num_units_in_tick invalid or unsupported (0/0)\n",
      "[NULL @ 0x29a2dc080] Overread VUI by 8 bits\n",
      "[h264 @ 0x293344690] Invalid level prefix\n",
      "[h264 @ 0x293344690] error while decoding MB 35 25\n",
      "[h264 @ 0x2933e5ba0] illegal short term buffer state detected\n"
     ]
    },
    {
     "name": "stdout",
     "output_type": "stream",
     "text": [
      "Processing video number:  49  with numer of frames:  2913  for state  Sleepy\n",
      "Processing video number:  50  with numer of frames:  1427  for state  Sleepy\n",
      "Processing video number:  51  with numer of frames:  2882  for state  Sleepy\n",
      "Processing video number:  52  with numer of frames:  2867  for state  Sleepy\n",
      "Processing video number:  53  with numer of frames:  1460  for state  Sleepy\n",
      "Processing video number:  54  with numer of frames:  2875  for state  Sleepy\n",
      "Processing video number:  55  with numer of frames:  1423  for state  Sleepy\n",
      "Processing video number:  56  with numer of frames:  2847  for state  Sleepy\n",
      "Processing video number:  57  with numer of frames:  2842  for state  Sleepy\n"
     ]
    },
    {
     "name": "stderr",
     "output_type": "stream",
     "text": [
      "[NULL @ 0x29a2eea50] time_scale/num_units_in_tick invalid or unsupported (0/0)\n",
      "[NULL @ 0x29a2eea50] Overread VUI by 8 bits\n",
      "[h264 @ 0x29334e9c0] Invalid level prefix\n",
      "[h264 @ 0x29334e9c0] error while decoding MB 24 4\n",
      "[h264 @ 0x29334e9c0] corrupted macroblock 22 25 (total_coeff=-1)\n",
      "[h264 @ 0x29334e9c0] error while decoding MB 22 25\n",
      "[h264 @ 0x29333dc80] illegal short term buffer state detected\n"
     ]
    },
    {
     "name": "stdout",
     "output_type": "stream",
     "text": [
      "Processing video number:  58  with numer of frames:  1445  for state  Sleepy\n",
      "Processing video number:  59  with numer of frames:  2867  for state  Sleepy\n",
      "Processing video number:  60  with numer of frames:  1425  for state  Sleepy\n",
      "Processing video number:  61  with numer of frames:  2879  for state  Sleepy\n",
      "Processing video number:  62  with numer of frames:  3058  for state  Sleepy\n",
      "Processing video number:  63  with numer of frames:  1615  for state  Sleepy\n",
      "Processing video number:  64  with numer of frames:  2953  for state  Sleepy\n",
      "Processing video number:  65  with numer of frames:  1570  for state  Sleepy\n",
      "Processing video number:  66  with numer of frames:  2878  for state  Sleepy\n",
      "Processing video number:  67  with numer of frames:  2203  for state  Sleepy\n",
      "Processing video number:  68  with numer of frames:  1422  for state  Sleepy\n",
      "Processing video number:  69  with numer of frames:  2948  for state  Sleepy\n",
      "Processing video number:  70  with numer of frames:  1536  for state  Sleepy\n",
      "Processing video number:  71  with numer of frames:  3069  for state  Sleepy\n",
      "Processing video number:  72  with numer of frames:  2845  for state  Sleepy\n",
      "Processing video number:  73  with numer of frames:  1101  for state  Sleepy\n",
      "Processing video number:  74  with numer of frames:  3227  for state  Sleepy\n",
      "Processing video number:  75  with numer of frames:  1494  for state  Sleepy\n",
      "Processing video number:  76  with numer of frames:  2857  for state  Sleepy\n",
      "Processing video number:  77  with numer of frames:  2941  for state  Sleepy\n",
      "Processing video number:  78  with numer of frames:  1445  for state  Sleepy\n",
      "Processing video number:  79  with numer of frames:  3159  for state  Sleepy\n",
      "Processing video number:  80  with numer of frames:  1418  for state  Sleepy\n",
      "Processing video number:  81  with numer of frames:  2965  for state  Sleepy\n"
     ]
    },
    {
     "name": "stderr",
     "output_type": "stream",
     "text": [
      "[NULL @ 0x2e6611370] time_scale/num_units_in_tick invalid or unsupported (0/0)\n",
      "[NULL @ 0x2e6611370] Overread VUI by 8 bits\n",
      "[h264 @ 0x29a2eea50] Invalid level prefix\n",
      "[h264 @ 0x29a2eea50] error while decoding MB 23 4\n",
      "[h264 @ 0x29a2eea50] Invalid level prefix\n",
      "[h264 @ 0x29a2eea50] error while decoding MB 17 26\n",
      "[h264 @ 0x2e6611780] illegal short term buffer state detected\n"
     ]
    },
    {
     "name": "stdout",
     "output_type": "stream",
     "text": [
      "Processing video number:  82  with numer of frames:  3007  for state  Sleepy\n"
     ]
    },
    {
     "name": "stderr",
     "output_type": "stream",
     "text": [
      "[NULL @ 0x29a2f8050] time_scale/num_units_in_tick invalid or unsupported (0/0)\n",
      "[NULL @ 0x29a2f8050] Overread VUI by 8 bits\n",
      "[h264 @ 0x29333f410] negative number of zero coeffs at 19 0\n",
      "[h264 @ 0x29333f410] error while decoding MB 19 0\n",
      "[h264 @ 0x2933ef930] illegal short term buffer state detected\n"
     ]
    },
    {
     "name": "stdout",
     "output_type": "stream",
     "text": [
      "Processing video number:  83  with numer of frames:  1426  for state  Sleepy\n",
      "Processing video number:  84  with numer of frames:  3090  for state  Sleepy\n",
      "Processing video number:  85  with numer of frames:  1678  for state  Sleepy\n",
      "Processing video number:  86  with numer of frames:  2739  for state  Sleepy\n",
      "Processing video number:  87  with numer of frames:  3090  for state  Sleepy\n",
      "Processing video number:  88  with numer of frames:  1508  for state  Sleepy\n",
      "Processing video number:  89  with numer of frames:  2893  for state  Sleepy\n",
      "Processing video number:  1  with numer of frames:  1521  for state  NonSleepy\n",
      "Processing video number:  2  with numer of frames:  2803  for state  NonSleepy\n",
      "Processing video number:  3  with numer of frames:  3330  for state  NonSleepy\n"
     ]
    },
    {
     "name": "stderr",
     "output_type": "stream",
     "text": [
      "[NULL @ 0x2933d0140] time_scale/num_units_in_tick invalid or unsupported (0/0)\n",
      "[NULL @ 0x2933d0140] Overread VUI by 8 bits\n",
      "[h264 @ 0x2933d1020] corrupted macroblock 34 4 (total_coeff=-1)\n",
      "[h264 @ 0x2933d1020] error while decoding MB 34 4\n",
      "[h264 @ 0x2933d1020] Invalid level prefix\n",
      "[h264 @ 0x2933d1020] error while decoding MB 23 25\n",
      "[h264 @ 0x297faa510] illegal short term buffer state detected\n"
     ]
    },
    {
     "name": "stdout",
     "output_type": "stream",
     "text": [
      "Processing video number:  4  with numer of frames:  1513  for state  NonSleepy\n",
      "Processing video number:  5  with numer of frames:  2732  for state  NonSleepy\n",
      "Processing video number:  6  with numer of frames:  1497  for state  NonSleepy\n",
      "Processing video number:  7  with numer of frames:  2880  for state  NonSleepy\n",
      "Processing video number:  8  with numer of frames:  2934  for state  NonSleepy\n",
      "Processing video number:  9  with numer of frames:  1260  for state  NonSleepy\n",
      "Processing video number:  10  with numer of frames:  2679  for state  NonSleepy\n",
      "Processing video number:  11  with numer of frames:  3086  for state  NonSleepy\n",
      "Processing video number:  12  with numer of frames:  3073  for state  NonSleepy\n",
      "Processing video number:  13  with numer of frames:  1445  for state  NonSleepy\n",
      "Processing video number:  14  with numer of frames:  3302  for state  NonSleepy\n",
      "Processing video number:  15  with numer of frames:  1428  for state  NonSleepy\n",
      "Processing video number:  16  with numer of frames:  2959  for state  NonSleepy\n",
      "Processing video number:  17  with numer of frames:  2868  for state  NonSleepy\n",
      "Processing video number:  18  with numer of frames:  1405  for state  NonSleepy\n",
      "Processing video number:  19  with numer of frames:  2888  for state  NonSleepy\n",
      "Processing video number:  20  with numer of frames:  1426  for state  NonSleepy\n",
      "Processing video number:  21  with numer of frames:  2812  for state  NonSleepy\n"
     ]
    },
    {
     "name": "stderr",
     "output_type": "stream",
     "text": [
      "[NULL @ 0x2a0a9c3f0] time_scale/num_units_in_tick invalid or unsupported (0/0)\n",
      "[NULL @ 0x2a0a9c3f0] Overread VUI by 8 bits\n",
      "[h264 @ 0x2933f11b0] Invalid level prefix\n",
      "[h264 @ 0x2933f11b0] error while decoding MB 26 6\n",
      "[h264 @ 0x2933f11b0] out of range intra chroma pred mode\n",
      "[h264 @ 0x2933f11b0] error while decoding MB 31 23\n",
      "[h264 @ 0x297f8d240] illegal short term buffer state detected\n"
     ]
    },
    {
     "name": "stdout",
     "output_type": "stream",
     "text": [
      "Processing video number:  22  with numer of frames:  2905  for state  NonSleepy\n",
      "Processing video number:  23  with numer of frames:  1410  for state  NonSleepy\n",
      "Processing video number:  24  with numer of frames:  2861  for state  NonSleepy\n",
      "Processing video number:  25  with numer of frames:  1431  for state  NonSleepy\n",
      "Processing video number:  26  with numer of frames:  2941  for state  NonSleepy\n",
      "Processing video number:  27  with numer of frames:  2856  for state  NonSleepy\n",
      "Processing video number:  28  with numer of frames:  1442  for state  NonSleepy\n",
      "Processing video number:  29  with numer of frames:  2868  for state  NonSleepy\n",
      "Processing video number:  30  with numer of frames:  1964  for state  NonSleepy\n",
      "Processing video number:  31  with numer of frames:  3019  for state  NonSleepy\n",
      "Processing video number:  32  with numer of frames:  2940  for state  NonSleepy\n",
      "Processing video number:  33  with numer of frames:  1754  for state  NonSleepy\n",
      "Processing video number:  34  with numer of frames:  2879  for state  NonSleepy\n",
      "Processing video number:  35  with numer of frames:  1538  for state  NonSleepy\n",
      "Processing video number:  36  with numer of frames:  2950  for state  NonSleepy\n",
      "Processing video number:  37  with numer of frames:  3231  for state  NonSleepy\n",
      "Processing video number:  38  with numer of frames:  1581  for state  NonSleepy\n",
      "Processing video number:  39  with numer of frames:  3080  for state  NonSleepy\n",
      "Processing video number:  40  with numer of frames:  1435  for state  NonSleepy\n",
      "Processing video number:  41  with numer of frames:  3234  for state  NonSleepy\n",
      "Processing video number:  42  with numer of frames:  3029  for state  NonSleepy\n",
      "Processing video number:  43  with numer of frames:  1434  for state  NonSleepy\n",
      "Processing video number:  44  with numer of frames:  2926  for state  NonSleepy\n",
      "Processing video number:  45  with numer of frames:  1382  for state  NonSleepy\n",
      "Processing video number:  46  with numer of frames:  2923  for state  NonSleepy\n",
      "Processing video number:  47  with numer of frames:  3115  for state  NonSleepy\n",
      "Processing video number:  48  with numer of frames:  1412  for state  NonSleepy\n",
      "Processing video number:  49  with numer of frames:  2930  for state  NonSleepy\n",
      "Processing video number:  50  with numer of frames:  2228  for state  NonSleepy\n",
      "Processing video number:  51  with numer of frames:  2816  for state  NonSleepy\n",
      "Processing video number:  52  with numer of frames:  2927  for state  NonSleepy\n",
      "Processing video number:  53  with numer of frames:  1611  for state  NonSleepy\n",
      "Processing video number:  54  with numer of frames:  2847  for state  NonSleepy\n",
      "Processing video number:  55  with numer of frames:  1548  for state  NonSleepy\n",
      "Processing video number:  56  with numer of frames:  2909  for state  NonSleepy\n",
      "Processing video number:  57  with numer of frames:  4060  for state  NonSleepy\n"
     ]
    },
    {
     "name": "stderr",
     "output_type": "stream",
     "text": [
      "[NULL @ 0x2e6641090] missing picture in access unit with size 16\n",
      "[h264 @ 0x297f2b170] No start code is found.\n",
      "[h264 @ 0x297f2b170] Error splitting the input into NAL units.\n",
      "[NULL @ 0x2e6641090] missing picture in access unit with size 16\n",
      "[h264 @ 0x297f63be0] No start code is found.\n",
      "[h264 @ 0x297f63be0] Error splitting the input into NAL units.\n",
      "[NULL @ 0x2e6641090] missing picture in access unit with size 16\n",
      "[h264 @ 0x2933f5ab0] No start code is found.\n",
      "[h264 @ 0x2933f5ab0] Error splitting the input into NAL units.\n",
      "[NULL @ 0x2e6641090] missing picture in access unit with size 16\n",
      "[h264 @ 0x2933ea3e0] No start code is found.\n",
      "[h264 @ 0x2933ea3e0] Error splitting the input into NAL units.\n"
     ]
    },
    {
     "name": "stdout",
     "output_type": "stream",
     "text": [
      "Processing video number:  58  with numer of frames:  1594  for state  NonSleepy\n",
      "Processing video number:  59  with numer of frames:  3462  for state  NonSleepy\n",
      "Processing video number:  60  with numer of frames:  1436  for state  NonSleepy\n",
      "Processing video number:  61  with numer of frames:  2997  for state  NonSleepy\n",
      "Processing video number:  62  with numer of frames:  3030  for state  NonSleepy\n",
      "Processing video number:  63  with numer of frames:  1456  for state  NonSleepy\n",
      "Processing video number:  64  with numer of frames:  3033  for state  NonSleepy\n",
      "Processing video number:  65  with numer of frames:  1494  for state  NonSleepy\n",
      "Processing video number:  66  with numer of frames:  2944  for state  NonSleepy\n",
      "Processing video number:  67  with numer of frames:  3076  for state  NonSleepy\n",
      "Processing video number:  68  with numer of frames:  1446  for state  NonSleepy\n",
      "Processing video number:  69  with numer of frames:  3114  for state  NonSleepy\n",
      "Processing video number:  70  with numer of frames:  1449  for state  NonSleepy\n",
      "Processing video number:  71  with numer of frames:  4294  for state  NonSleepy\n"
     ]
    },
    {
     "name": "stderr",
     "output_type": "stream",
     "text": [
      "[h264 @ 0x2933d6430] decode_slice_header error\n",
      "[h264 @ 0x2933d6430] decode_slice_header error\n",
      "[h264 @ 0x2933d6430] decode_slice_header error\n",
      "[h264 @ 0x2933d6430] decode_slice_header error\n",
      "[h264 @ 0x2933d6430] decode_slice_header error\n",
      "[NULL @ 0x2e6625330] missing picture in access unit with size 16\n",
      "[h264 @ 0x2933d6430] No start code is found.\n",
      "[h264 @ 0x2933d6430] Error splitting the input into NAL units.\n",
      "[NULL @ 0x2e6625330] missing picture in access unit with size 16\n",
      "[h264 @ 0x293342890] No start code is found.\n",
      "[h264 @ 0x293342890] Error splitting the input into NAL units.\n",
      "[NULL @ 0x2e6625330] missing picture in access unit with size 16\n",
      "[h264 @ 0x2933c3cd0] No start code is found.\n",
      "[h264 @ 0x2933c3cd0] Error splitting the input into NAL units.\n",
      "[NULL @ 0x2e6625330] missing picture in access unit with size 16\n",
      "[h264 @ 0x2933d26a0] No start code is found.\n",
      "[h264 @ 0x2933d26a0] Error splitting the input into NAL units.\n",
      "[NULL @ 0x2e6625330] missing picture in access unit with size 16\n",
      "[h264 @ 0x2933514e0] No start code is found.\n",
      "[h264 @ 0x2933514e0] Error splitting the input into NAL units.\n",
      "[NULL @ 0x2e6625330] missing picture in access unit with size 16\n",
      "[h264 @ 0x297f52370] No start code is found.\n",
      "[h264 @ 0x297f52370] Error splitting the input into NAL units.\n",
      "[NULL @ 0x2e6625330] missing picture in access unit with size 16\n",
      "[h264 @ 0x297f61c70] No start code is found.\n",
      "[h264 @ 0x297f61c70] Error splitting the input into NAL units.\n"
     ]
    },
    {
     "name": "stdout",
     "output_type": "stream",
     "text": [
      "Processing video number:  72  with numer of frames:  2923  for state  NonSleepy\n",
      "Processing video number:  73  with numer of frames:  1444  for state  NonSleepy\n",
      "Processing video number:  74  with numer of frames:  2828  for state  NonSleepy\n",
      "Processing video number:  75  with numer of frames:  1569  for state  NonSleepy\n",
      "Processing video number:  76  with numer of frames:  3010  for state  NonSleepy\n",
      "Processing video number:  77  with numer of frames:  2906  for state  NonSleepy\n",
      "Processing video number:  78  with numer of frames:  1475  for state  NonSleepy\n",
      "Processing video number:  79  with numer of frames:  2911  for state  NonSleepy\n"
     ]
    },
    {
     "name": "stderr",
     "output_type": "stream",
     "text": [
      "[NULL @ 0x2a0abc950] time_scale/num_units_in_tick invalid or unsupported (0/0)\n",
      "[NULL @ 0x2a0abc950] Overread VUI by 8 bits\n",
      "[h264 @ 0x29333f230] Invalid level prefix\n",
      "[h264 @ 0x29333f230] error while decoding MB 29 4\n",
      "[h264 @ 0x29333f230] corrupted macroblock 28 25 (total_coeff=-1)\n",
      "[h264 @ 0x29333f230] error while decoding MB 28 25\n",
      "[h264 @ 0x2933f2db0] illegal short term buffer state detected\n",
      "[NULL @ 0x2a0abc950] time_scale/num_units_in_tick invalid or unsupported (0/0)\n",
      "[h264 @ 0x2933e93d0] corrupted macroblock 29 19 (total_coeff=-1)\n",
      "[h264 @ 0x2933e93d0] error while decoding MB 29 19\n",
      "[h264 @ 0x2933e93d0] corrupted macroblock 27 10 (total_coeff=-1)\n",
      "[h264 @ 0x2933e93d0] error while decoding MB 27 10\n",
      "[h264 @ 0x29333f230] illegal short term buffer state detected\n"
     ]
    },
    {
     "name": "stdout",
     "output_type": "stream",
     "text": [
      "Processing video number:  80  with numer of frames:  1538  for state  NonSleepy\n",
      "Processing video number:  81  with numer of frames:  2882  for state  NonSleepy\n",
      "Processing video number:  82  with numer of frames:  2918  for state  NonSleepy\n",
      "Processing video number:  83  with numer of frames:  1420  for state  NonSleepy\n",
      "Processing video number:  84  with numer of frames:  2861  for state  NonSleepy\n",
      "Processing video number:  85  with numer of frames:  1555  for state  NonSleepy\n",
      "Processing video number:  86  with numer of frames:  4460  for state  NonSleepy\n"
     ]
    },
    {
     "name": "stderr",
     "output_type": "stream",
     "text": [
      "[NULL @ 0x2a0a148e0] missing picture in access unit with size 16\n",
      "[h264 @ 0x2a0a3fef0] No start code is found.\n",
      "[h264 @ 0x2a0a3fef0] Error splitting the input into NAL units.\n",
      "[NULL @ 0x2a0a148e0] missing picture in access unit with size 16\n",
      "[h264 @ 0x2a0a25290] No start code is found.\n",
      "[h264 @ 0x2a0a25290] Error splitting the input into NAL units.\n",
      "[NULL @ 0x2a0a148e0] missing picture in access unit with size 16\n",
      "[h264 @ 0x2a0a97390] No start code is found.\n",
      "[h264 @ 0x2a0a97390] Error splitting the input into NAL units.\n",
      "[NULL @ 0x2a0a148e0] missing picture in access unit with size 16\n",
      "[h264 @ 0x2a0af0dc0] No start code is found.\n",
      "[h264 @ 0x2a0af0dc0] Error splitting the input into NAL units.\n",
      "[NULL @ 0x2a0a148e0] missing picture in access unit with size 16\n",
      "[h264 @ 0x2a0ab83f0] No start code is found.\n",
      "[h264 @ 0x2a0ab83f0] Error splitting the input into NAL units.\n",
      "[NULL @ 0x2a0a148e0] missing picture in access unit with size 16\n",
      "[h264 @ 0x2a0a0b7e0] No start code is found.\n",
      "[h264 @ 0x2a0a0b7e0] Error splitting the input into NAL units.\n",
      "[NULL @ 0x2a0a148e0] missing picture in access unit with size 16\n",
      "[h264 @ 0x2a0af24f0] No start code is found.\n",
      "[h264 @ 0x2a0af24f0] Error splitting the input into NAL units.\n",
      "[NULL @ 0x2a0a148e0] missing picture in access unit with size 16\n",
      "[h264 @ 0x2a0a1cb80] No start code is found.\n",
      "[h264 @ 0x2a0a1cb80] Error splitting the input into NAL units.\n",
      "[NULL @ 0x2a0a148e0] missing picture in access unit with size 16\n",
      "[h264 @ 0x2a0a47580] No start code is found.\n",
      "[h264 @ 0x2a0a47580] Error splitting the input into NAL units.\n"
     ]
    },
    {
     "name": "stdout",
     "output_type": "stream",
     "text": [
      "Processing video number:  87  with numer of frames:  3168  for state  NonSleepy\n",
      "Processing video number:  88  with numer of frames:  1558  for state  NonSleepy\n",
      "Processing video number:  89  with numer of frames:  2946  for state  NonSleepy\n"
     ]
    },
    {
     "ename": "",
     "evalue": "",
     "output_type": "error",
     "traceback": [
      "\u001b[1;31mThe Kernel crashed while executing code in the the current cell or a previous cell. Please review the code in the cell(s) to identify a possible cause of the failure. Click <a href='https://aka.ms/vscodeJupyterKernelCrash'>here</a> for more info. View Jupyter <a href='command:jupyter.viewOutput'>log</a> for further details."
     ]
    }
   ],
   "source": [
    "mp_face_mesh = mp.solutions.face_mesh\n",
    "mp_drawing = mp.solutions.drawing_utils  \n",
    "mp_drawing_styles = mp.solutions.drawing_styles\n",
    "\n",
    "for state in [\"Sleepy\", \"NonSleepy\"]:\n",
    "    for number in range(1,90):\n",
    "            videoName = \"sleepyCombination.avi\" if state == \"Sleepy\" else \"nonsleepyCombination.avi\"\n",
    "            videoPath = os.path.join('/Users/M374155/Desktop/Test/', state, str(number), videoName)\n",
    "            cap = cv.VideoCapture(videoPath)\n",
    "            frame_count = int(cap.get(cv.CAP_PROP_FRAME_COUNT))\n",
    "            print(\"Processing video number: \", str(number), \" with numer of frames: \", frame_count, \" for state \", state)\n",
    "            with mp_face_mesh.FaceMesh(\n",
    "                refine_landmarks=True,\n",
    "                min_detection_confidence=0.6,\n",
    "                min_tracking_confidence = 0.8) as mesh:\n",
    "\n",
    "                for frame_number in range(frame_count):\n",
    "                    ret, frame = cap.read()  \n",
    "                    image, results = revertColors(frame=frame, mesh=mesh)\n",
    "\n",
    "                    drawLandmarks(mp_face_mesh=mp_face_mesh, results=results, frame=image)\n",
    "\n",
    "                    landmarks = extractKeypoints(results)\n",
    "                    npyPath = os.path.join(\"./Extracted_Values_Bigger_Confidence/\", state , str(number), str(frame_number))\n",
    "                    np.save(npyPath, landmarks)\n",
    "\n",
    "                    cv.imshow('Video', image)\n",
    "                    if cv.waitKey(1) == ord('q'):\n",
    "                        break\n",
    "            cap.release()\n",
    "            cv.destroyAllWindows()"
   ]
  }
 ],
 "metadata": {
  "kernelspec": {
   "display_name": "Python 3",
   "language": "python",
   "name": "python3"
  },
  "language_info": {
   "codemirror_mode": {
    "name": "ipython",
    "version": 3
   },
   "file_extension": ".py",
   "mimetype": "text/x-python",
   "name": "python",
   "nbconvert_exporter": "python",
   "pygments_lexer": "ipython3",
   "version": "3.10.8"
  },
  "orig_nbformat": 4,
  "vscode": {
   "interpreter": {
    "hash": "7af61bf7e85a63f645af3a4c590de47c9dba01176dacef0e93b7460b494eae3e"
   }
  }
 },
 "nbformat": 4,
 "nbformat_minor": 2
}
