{
 "cells": [
  {
   "cell_type": "code",
   "execution_count": 6,
   "metadata": {},
   "outputs": [],
   "source": [
    "import cv2 as cv\n",
    "import os\n",
    "from os.path import exists\n",
    "import numpy as np\n",
    "import mediapipe as mp\n",
    "\n",
    "drowsiness_level = np.array(['0', '5', '10'])"
   ]
  },
  {
   "cell_type": "markdown",
   "metadata": {},
   "source": [
    "Create folders for extracted values"
   ]
  },
  {
   "cell_type": "code",
   "execution_count": 7,
   "metadata": {},
   "outputs": [],
   "source": [
    "DATA_PATH = os.path.join('Extracted_Values')\n",
    "\n",
    "for number in range(1,61):\n",
    "    for level in drowsiness_level:\n",
    "        try:\n",
    "            os.makedirs(os.path.join(DATA_PATH, str(number), str(level)))\n",
    "        except:\n",
    "            pass\n"
   ]
  },
  {
   "cell_type": "markdown",
   "metadata": {},
   "source": [
    "In order to solve openCV problem use version 4.5.5.62"
   ]
  },
  {
   "cell_type": "code",
   "execution_count": 3,
   "metadata": {},
   "outputs": [],
   "source": [
    "def extractKeypoints(result):\n",
    "    if result.multi_face_landmarks:\n",
    "        for face_detected in result.multi_face_landmarks:\n",
    "            face = np.array([[res.x, res.y, res.z] for res in face_detected.landmark]).flatten()\n",
    "    else:\n",
    "        face = np.zeros(1434)\n",
    "\n",
    "    return face"
   ]
  },
  {
   "cell_type": "markdown",
   "metadata": {},
   "source": [
    "Extract face features from video"
   ]
  },
  {
   "cell_type": "code",
   "execution_count": null,
   "metadata": {},
   "outputs": [],
   "source": [
    "from sys import api_version\n",
    "\n",
    "\n",
    "mp_face_mesh = mp.solutions.face_mesh\n",
    "mp_drawing = mp.solutions.drawing_utils  \n",
    "mp_drawing_styles = mp.solutions.drawing_styles\n",
    "\n",
    "folder_numbers = range(1,3)\n",
    "video_extension_lowercase = \".mov\"\n",
    "video_extension_uppercase = \".MOV\"\n",
    "\n",
    "\n",
    "for number in folder_numbers:\n",
    "    for level in drowsiness_level:\n",
    "        video_path = \"Dataset/\" + str(number) + \"/\" + str(level) + video_extension_lowercase\n",
    "        if exists(video_path) == False:\n",
    "            video_path = \"./Dataset/\" + str(number) + \"/\" + str(level) + video_extension_uppercase\n",
    "\n",
    "        cap = cv.VideoCapture(video_path)\n",
    "        frame_count = int(cap.get(cv.CAP_PROP_FRAME_COUNT))  # Count the number of frames in each video\n",
    "\n",
    "\n",
    "        with mp_face_mesh.FaceMesh(\n",
    "            static_image_mode=False,\n",
    "            max_num_faces=1,\n",
    "            refine_landmarks=True,\n",
    "            min_detection_confidence=0.6,\n",
    "            min_tracking_confidence = 0.6) as mesh:\n",
    "\n",
    "            for frame_number in range(frame_count):\n",
    "                ret, frame = cap.read()\n",
    "                \n",
    "                frame = cv.resize(frame, None, fx=0.5, fy=0.5, interpolation=cv.INTER_LINEAR)    \n",
    "\n",
    "                image = cv.cvtColor(frame, cv.COLOR_BGR2RGB)  \n",
    "                image.flags.writeable = False \n",
    "                results = mesh.process(image)\n",
    "                image.flags.writeable = True\n",
    "                image = cv.cvtColor(image, cv.COLOR_RGB2BGR)  \n",
    "\n",
    "                if results.multi_face_landmarks:\n",
    "                    for face_landmarks in results.multi_face_landmarks:\n",
    "                        mp_drawing.draw_landmarks(\n",
    "                            image=image,\n",
    "                            landmark_list=face_landmarks,\n",
    "                            connections=mp_face_mesh.FACEMESH_TESSELATION,\n",
    "                            landmark_drawing_spec=None,\n",
    "                            connection_drawing_spec=mp_drawing_styles\n",
    "                            .get_default_face_mesh_tesselation_style())\n",
    "                        mp_drawing.draw_landmarks(\n",
    "                            image=image,\n",
    "                            landmark_list=face_landmarks,\n",
    "                            connections=mp_face_mesh.FACEMESH_CONTOURS,\n",
    "                            landmark_drawing_spec=None,\n",
    "                            connection_drawing_spec=mp_drawing_styles\n",
    "                            .get_default_face_mesh_contours_style())\n",
    "                        mp_drawing.draw_landmarks(\n",
    "                            image=image,\n",
    "                            landmark_list=face_landmarks,\n",
    "                            connections=mp_face_mesh.FACEMESH_IRISES,\n",
    "                            landmark_drawing_spec=None,\n",
    "                            connection_drawing_spec=mp_drawing_styles\n",
    "                            .get_default_face_mesh_iris_connections_style())\n",
    "\n",
    "                landmarks = extractKeypoints(results)\n",
    "                npyPath = os.path.join(\"./Extracted_Values/\", str(number), str(level), str(frame_number))\n",
    "                np.save(npyPath, landmarks)\n",
    "\n",
    "                # cv.imshow('Video', image)\n",
    "                # if cv.waitKey(1) == ord('q'):\n",
    "                #     break\n",
    "\n",
    "            cap.release()\n",
    "            # cv.destroyAllWindows()"
   ]
  }
 ],
 "metadata": {
  "kernelspec": {
   "display_name": "Python 3.10.4 64-bit",
   "language": "python",
   "name": "python3"
  },
  "language_info": {
   "codemirror_mode": {
    "name": "ipython",
    "version": 3
   },
   "file_extension": ".py",
   "mimetype": "text/x-python",
   "name": "python",
   "nbconvert_exporter": "python",
   "pygments_lexer": "ipython3",
   "version": "3.10.4"
  },
  "orig_nbformat": 4,
  "vscode": {
   "interpreter": {
    "hash": "916dbcbb3f70747c44a77c7bcd40155683ae19c65e1c03b4aa3499c5328201f1"
   }
  }
 },
 "nbformat": 4,
 "nbformat_minor": 2
}
