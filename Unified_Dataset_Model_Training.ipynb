{
 "cells": [
  {
   "cell_type": "code",
   "execution_count": 1,
   "id": "c65ae561",
   "metadata": {
    "scrolled": true
   },
   "outputs": [
    {
     "name": "stdout",
     "output_type": "stream",
     "text": [
      "TensorFlow has access to the following devices:\n",
      "[PhysicalDevice(name='/physical_device:CPU:0', device_type='CPU'), PhysicalDevice(name='/physical_device:GPU:0', device_type='GPU')]\n",
      "TensorFlow version: 2.11.0\n"
     ]
    }
   ],
   "source": [
    "import numpy as np\n",
    "import pandas as pd\n",
    "import sklearn\n",
    "import tensorflow as tf\n",
    "import matplotlib.pyplot as plt\n",
    "\n",
    "# Check for TensorFlow GPU access\n",
    "print(f\"TensorFlow has access to the following devices:\\n{tf.config.list_physical_devices()}\")\n",
    "\n",
    "# See TensorFlow version\n",
    "print(f\"TensorFlow version: {tf.__version__}\")"
   ]
  },
  {
   "cell_type": "code",
   "execution_count": 2,
   "id": "c4de8905",
   "metadata": {},
   "outputs": [],
   "source": [
    "import tensorflow\n",
    "from sklearn.model_selection import train_test_split\n",
    "from tensorflow.keras.utils import to_categorical\n",
    "from keras.layers import TimeDistributed\n",
    "from tensorflow.keras.models import Sequential\n",
    "from tensorflow.keras.layers import LSTM, Dense, Dropout, Flatten\n",
    "from tensorflow.keras.callbacks import TensorBoard\n",
    "from tensorflow.keras.callbacks import EarlyStopping\n",
    "from sklearn.metrics import multilabel_confusion_matrix, accuracy_score\n",
    "from tensorflow.keras.utils import to_categorical\n",
    "from keras.layers import MaxPooling2D, Conv2D\n",
    "import numpy as np\n",
    "import os\n",
    "from tensorflow.python.keras.callbacks import EarlyStopping\n",
    "from datetime import datetime"
   ]
  },
  {
   "cell_type": "markdown",
   "id": "a62eac5e",
   "metadata": {},
   "source": [
    "##  Load frames"
   ]
  },
  {
   "cell_type": "code",
   "execution_count": 6,
   "id": "baeb7dd6",
   "metadata": {},
   "outputs": [
    {
     "name": "stdout",
     "output_type": "stream",
     "text": [
      "File number: 1 processed\n",
      "File number: 2 processed\n",
      "File number: 3 processed\n",
      "File number: 4 processed\n",
      "File number: 5 processed\n",
      "File number: 6 processed\n",
      "File number: 7 processed\n",
      "File number: 8 processed\n",
      "File number: 9 processed\n",
      "File number: 10 processed\n"
     ]
    }
   ],
   "source": [
    "drowsines_levels = np.array([\"0\", \"5\", \"10\"])\n",
    "DATA_PATH = os.path.join('./Dataset')\n",
    "label_map = {label: num for num, label in enumerate(drowsines_levels)}\n",
    "\n",
    "files, labels = [], []\n",
    "\n",
    "for video_index in range(1,11):\n",
    "  for level in drowsines_levels:\n",
    "    window = []      \n",
    "    for frame in range(1, 4001, 2):\n",
    "      file_path = os.path.join(DATA_PATH, str(video_index), level, (str(frame) + \".npy\"))\n",
    "      if os.path.exists(file_path):\n",
    "        res = np.load(file_path)        \n",
    "        window.append(res)\n",
    "      else:\n",
    "        print(f\"File at {file_path} doesn't exists\")\n",
    "    files.append(window)\n",
    "    labels.append(label_map[level])\n",
    "  print(f\"File number: {video_index} processed\")"
   ]
  },
  {
   "cell_type": "code",
   "execution_count": 7,
   "id": "a5f439b2",
   "metadata": {},
   "outputs": [
    {
     "data": {
      "text/plain": [
       "(30, 2000, 1434)"
      ]
     },
     "execution_count": 7,
     "metadata": {},
     "output_type": "execute_result"
    }
   ],
   "source": [
    "# Check loaded files shape\n",
    "np.array(files).shape"
   ]
  },
  {
   "cell_type": "markdown",
   "id": "e388f0e6",
   "metadata": {},
   "source": [
    "## Model training"
   ]
  },
  {
   "cell_type": "code",
   "execution_count": null,
   "id": "0bdf0ef2",
   "metadata": {},
   "outputs": [],
   "source": [
    "now = datetime.now()\n",
    "date_string = now.strftime(\"%d/%m/%Y %H:%M:%S\")\n",
    "\n",
    "X = np.array(files)\n",
    "y = to_categorical(labels).astype(int)\n",
    "X_train, X_test, y_train, y_test = train_test_split(X, y, test_size=0.2)\n",
    "\n",
    "log_dir = os.path.join(f'Logs_{date_string}')\n",
    "tb_callback = TensorBoard(log_dir=log_dir)\n",
    "\n",
    "model = Sequential()\n",
    "model.add(LSTM(64, return_sequences=True, activation='tanh', kernel_regularizer='l2' , input_shape=(2000, 1434)))\n",
    "model.add(LSTM(128, return_sequences=True, activation='tanh')) \n",
    "model.add(LSTM(32, return_sequences=False, activation='tanh')) \n",
    "model.add(Dense(32, activation='softmax', kernel_regularizer='l2')) \n",
    "model.add(Dense(drowsines_levels.shape[0], activation='softmax'))\n",
    "\n",
    "model.summary()\n",
    "model.compile(optimizer='Adam', loss='categorical_crossentropy', metrics=['accuracy'])\n",
    "\n",
    "model.fit(X_train, y_train, epochs=500, batch_size=500, shuffle = True, callbacks=[tb_callback], validation_split = 0.2) \n",
    "\n",
    "model.save(f'drowsines_levels_weights_${date_string}.h5')"
   ]
  },
  {
   "cell_type": "markdown",
   "id": "8ee74d36",
   "metadata": {},
   "source": [
    "## Model validation"
   ]
  },
  {
   "cell_type": "markdown",
   "id": "43a0ba45",
   "metadata": {},
   "source": [
    "### Confusion Matrix"
   ]
  },
  {
   "cell_type": "code",
   "execution_count": null,
   "id": "d8904583",
   "metadata": {},
   "outputs": [],
   "source": [
    "yhat = model.predict(X_test)\n",
    "ytrue = np.argmax(y_test, axis=1).tolist()\n",
    "yhat = np.argmax(yhat, axis=1).tolist()\n",
    "multilabel_confusion_matrix(ytrue, yhat)\n",
    "\n",
    "multilabel_confusion_matrix(ytrue, yhat)"
   ]
  },
  {
   "cell_type": "markdown",
   "id": "5aad2df5",
   "metadata": {},
   "source": [
    "### Tensorboard"
   ]
  },
  {
   "cell_type": "code",
   "execution_count": null,
   "id": "92b48b7c",
   "metadata": {},
   "outputs": [],
   "source": []
  }
 ],
 "metadata": {
  "kernelspec": {
   "display_name": "Python 3 (ipykernel)",
   "language": "python",
   "name": "python3"
  },
  "language_info": {
   "codemirror_mode": {
    "name": "ipython",
    "version": 3
   },
   "file_extension": ".py",
   "mimetype": "text/x-python",
   "name": "python",
   "nbconvert_exporter": "python",
   "pygments_lexer": "ipython3",
   "version": "3.8.16"
  }
 },
 "nbformat": 4,
 "nbformat_minor": 5
}
